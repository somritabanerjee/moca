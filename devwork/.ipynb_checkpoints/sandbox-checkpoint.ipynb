{
 "cells": [
  {
   "cell_type": "markdown",
   "metadata": {},
   "source": [
    "## Goals:\n",
    "1. Generate some data to train on \n",
    "    - pick a mean and a phase\n",
    "    - generate (x,y) pairs \n",
    "2. Split data into 2 parts or just create test data\n",
    "3. Create NN\n",
    "4. Train NN on the training data\n",
    "5. Test NN on the test data\n",
    "6. What is the loss? \n",
    "\n",
    "\n",
    "## Next:\n",
    "1. transition to changing sinusoids\n",
    "2. implement ALPACA\n",
    "3. implement MOCA (if too hard, try MAML)\n",
    "    * https://arxiv.org/pdf/1912.08866.pdf\n",
    "    * https://arxiv.org/pdf/1703.03400.pdf\n",
    "4. implement segment detection (not just changepoint detection)\n",
    "5. find a lunar soil simulator"
   ]
  },
  {
   "cell_type": "code",
   "execution_count": 189,
   "metadata": {},
   "outputs": [],
   "source": [
    "import math\n",
    "import numpy as np\n",
    "import torch"
   ]
  },
  {
   "cell_type": "markdown",
   "metadata": {},
   "source": [
    "## 1. Generate some data to train on "
   ]
  },
  {
   "cell_type": "code",
   "execution_count": 190,
   "metadata": {},
   "outputs": [
    {
     "name": "stdout",
     "output_type": "stream",
     "text": [
      "1.7\n",
      "0.3490658503988659\n"
     ]
    }
   ],
   "source": [
    "mean = 1.7;\n",
    "phase = 20*math.pi/180;\n",
    "print(mean)\n",
    "print(phase)"
   ]
  },
  {
   "cell_type": "code",
   "execution_count": 191,
   "metadata": {},
   "outputs": [],
   "source": [
    "# Generate random inputs\n",
    "x_train = 6*torch.rand(1000)\n",
    "# Generate corresponding outputs\n",
    "y_train = mean + torch.sin(x_train+phase)"
   ]
  },
  {
   "cell_type": "code",
   "execution_count": 192,
   "metadata": {},
   "outputs": [],
   "source": [
    "# In numpy\n",
    "# x_train = 6*np.random.rand(1,1000)\n",
    "# y_train = mean + np.sin(x+phase)\n",
    "# data_train = np.vstack([x_train,y_train])\n",
    "# print(np.shape(data_train))"
   ]
  },
  {
   "cell_type": "code",
   "execution_count": 193,
   "metadata": {},
   "outputs": [
    {
     "name": "stdout",
     "output_type": "stream",
     "text": [
      "tensor(5.9982)\n",
      "tensor(0.0013)\n",
      "tensor(2.7000)\n",
      "tensor(0.7000)\n",
      "tensor(1.7291)\n"
     ]
    }
   ],
   "source": [
    "# See if data looks like we expect\n",
    "print(torch.max(x_train))\n",
    "print(torch.min(x_train))\n",
    "print(torch.max(y_train))\n",
    "print(torch.min(y_train))\n",
    "print(torch.mean(y_train))"
   ]
  },
  {
   "cell_type": "code",
   "execution_count": 195,
   "metadata": {},
   "outputs": [
    {
     "name": "stdout",
     "output_type": "stream",
     "text": [
      "2\n",
      "torch.Size([1000])\n"
     ]
    }
   ],
   "source": [
    "data_train = [x_train,y_train]\n",
    "print(len(data_train))\n",
    "print(data_train[0].size())"
   ]
  },
  {
   "cell_type": "markdown",
   "metadata": {},
   "source": [
    "## 2. Create test data"
   ]
  },
  {
   "cell_type": "code",
   "execution_count": 196,
   "metadata": {},
   "outputs": [
    {
     "name": "stdout",
     "output_type": "stream",
     "text": [
      "2\n",
      "torch.Size([100])\n"
     ]
    }
   ],
   "source": [
    "x_test = 6*torch.rand(100)\n",
    "# Generate corresponding outputs\n",
    "y_test = mean + torch.sin(x_test+phase)\n",
    "data_test = [x_test,y_test]\n",
    "print(len(data_test))\n",
    "print(data_test[0].size())"
   ]
  },
  {
   "cell_type": "markdown",
   "metadata": {},
   "source": [
    "## 3. Create NN"
   ]
  },
  {
   "cell_type": "code",
   "execution_count": 197,
   "metadata": {},
   "outputs": [],
   "source": [
    "import torch.nn as nn\n",
    "import torch.nn.functional as F\n",
    "\n",
    "# From Finn 2017: \"The regressor is a neural network model \n",
    "# with 2 hidden layers of size 40 with ReLU nonlinearities.\"\n",
    "class Net(nn.Module):\n",
    "    def __init__(self):\n",
    "        super(Net, self).__init__()\n",
    "        self.fc1 = nn.Linear(1, 40)\n",
    "        self.fc2 = nn.Linear(40, 40)\n",
    "        self.fc3 = nn.Linear(40, 1)\n",
    "\n",
    "    def forward(self, x):\n",
    "        x = F.relu(self.fc1(x))\n",
    "        x = F.relu(self.fc2(x))\n",
    "        x = self.fc3(x)\n",
    "        return x\n",
    "\n",
    "net = Net()"
   ]
  },
  {
   "cell_type": "code",
   "execution_count": 198,
   "metadata": {},
   "outputs": [],
   "source": [
    "import torch.optim as optim\n",
    "\n",
    "criterion = nn.MSELoss()\n",
    "optimizer = optim.SGD(net.parameters(), lr=0.01)"
   ]
  },
  {
   "cell_type": "code",
   "execution_count": 199,
   "metadata": {
    "scrolled": true
   },
   "outputs": [],
   "source": [
    "# In numpy\n",
    "# for row in range(0,np.size(data_train,1)):\n",
    "#     x = data_train[0,row]\n",
    "#     y = data_train[1,row]\n",
    "#     print(x)\n",
    "#     print(y)"
   ]
  },
  {
   "cell_type": "markdown",
   "metadata": {},
   "source": [
    "## 4. Train NN"
   ]
  },
  {
   "cell_type": "code",
   "execution_count": 203,
   "metadata": {},
   "outputs": [
    {
     "data": {
      "text/plain": [
       "tensor(4.8037)"
      ]
     },
     "execution_count": 203,
     "metadata": {},
     "output_type": "execute_result"
    }
   ],
   "source": [
    "data_train[1].size()\n",
    "data_train[0][5]"
   ]
  },
  {
   "cell_type": "code",
   "execution_count": 205,
   "metadata": {},
   "outputs": [
    {
     "name": "stdout",
     "output_type": "stream",
     "text": [
      "[1,   100] loss: 1.127\n",
      "[1,   200] loss: 0.098\n",
      "[1,   300] loss: 0.066\n",
      "[1,   400] loss: 0.054\n",
      "[1,   500] loss: 0.055\n",
      "[1,   600] loss: 0.056\n",
      "[1,   700] loss: 0.052\n",
      "[1,   800] loss: 0.035\n",
      "[1,   900] loss: 0.034\n",
      "[1,  1000] loss: 0.028\n",
      "[2,   100] loss: 0.041\n",
      "[2,   200] loss: 0.035\n",
      "[2,   300] loss: 0.031\n",
      "[2,   400] loss: 0.026\n",
      "[2,   500] loss: 0.031\n",
      "[2,   600] loss: 0.037\n",
      "[2,   700] loss: 0.034\n",
      "[2,   800] loss: 0.021\n",
      "[2,   900] loss: 0.023\n",
      "[2,  1000] loss: 0.018\n",
      "[3,   100] loss: 0.031\n",
      "[3,   200] loss: 0.023\n",
      "[3,   300] loss: 0.023\n",
      "[3,   400] loss: 0.020\n",
      "[3,   500] loss: 0.022\n",
      "[3,   600] loss: 0.029\n",
      "[3,   700] loss: 0.026\n",
      "[3,   800] loss: 0.015\n",
      "[3,   900] loss: 0.017\n",
      "[3,  1000] loss: 0.013\n",
      "[4,   100] loss: 0.023\n",
      "[4,   200] loss: 0.015\n",
      "[4,   300] loss: 0.017\n",
      "[4,   400] loss: 0.016\n",
      "[4,   500] loss: 0.015\n",
      "[4,   600] loss: 0.024\n",
      "[4,   700] loss: 0.018\n",
      "[4,   800] loss: 0.011\n",
      "[4,   900] loss: 0.013\n",
      "[4,  1000] loss: 0.010\n",
      "[5,   100] loss: 0.017\n",
      "[5,   200] loss: 0.010\n",
      "[5,   300] loss: 0.012\n",
      "[5,   400] loss: 0.013\n",
      "[5,   500] loss: 0.011\n",
      "[5,   600] loss: 0.019\n",
      "[5,   700] loss: 0.013\n",
      "[5,   800] loss: 0.008\n",
      "[5,   900] loss: 0.010\n",
      "[5,  1000] loss: 0.008\n",
      "[6,   100] loss: 0.012\n",
      "[6,   200] loss: 0.007\n",
      "[6,   300] loss: 0.010\n",
      "[6,   400] loss: 0.011\n",
      "[6,   500] loss: 0.008\n",
      "[6,   600] loss: 0.016\n",
      "[6,   700] loss: 0.010\n",
      "[6,   800] loss: 0.006\n",
      "[6,   900] loss: 0.008\n",
      "[6,  1000] loss: 0.006\n",
      "[7,   100] loss: 0.009\n",
      "[7,   200] loss: 0.005\n",
      "[7,   300] loss: 0.008\n",
      "[7,   400] loss: 0.009\n",
      "[7,   500] loss: 0.007\n",
      "[7,   600] loss: 0.013\n",
      "[7,   700] loss: 0.009\n",
      "[7,   800] loss: 0.005\n",
      "[7,   900] loss: 0.006\n",
      "[7,  1000] loss: 0.005\n",
      "[8,   100] loss: 0.007\n",
      "[8,   200] loss: 0.004\n",
      "[8,   300] loss: 0.007\n",
      "[8,   400] loss: 0.007\n",
      "[8,   500] loss: 0.006\n",
      "[8,   600] loss: 0.011\n",
      "[8,   700] loss: 0.008\n",
      "[8,   800] loss: 0.004\n",
      "[8,   900] loss: 0.005\n",
      "[8,  1000] loss: 0.004\n",
      "[9,   100] loss: 0.006\n",
      "[9,   200] loss: 0.004\n",
      "[9,   300] loss: 0.006\n",
      "[9,   400] loss: 0.006\n",
      "[9,   500] loss: 0.005\n",
      "[9,   600] loss: 0.009\n",
      "[9,   700] loss: 0.007\n",
      "[9,   800] loss: 0.004\n",
      "[9,   900] loss: 0.004\n",
      "[9,  1000] loss: 0.003\n",
      "[10,   100] loss: 0.005\n",
      "[10,   200] loss: 0.003\n",
      "[10,   300] loss: 0.005\n",
      "[10,   400] loss: 0.005\n",
      "[10,   500] loss: 0.004\n",
      "[10,   600] loss: 0.008\n",
      "[10,   700] loss: 0.007\n",
      "[10,   800] loss: 0.004\n",
      "[10,   900] loss: 0.004\n",
      "[10,  1000] loss: 0.003\n",
      "[11,   100] loss: 0.004\n",
      "[11,   200] loss: 0.003\n",
      "[11,   300] loss: 0.004\n",
      "[11,   400] loss: 0.004\n",
      "[11,   500] loss: 0.004\n",
      "[11,   600] loss: 0.007\n",
      "[11,   700] loss: 0.006\n",
      "[11,   800] loss: 0.003\n",
      "[11,   900] loss: 0.003\n",
      "[11,  1000] loss: 0.002\n",
      "[12,   100] loss: 0.004\n",
      "[12,   200] loss: 0.002\n",
      "[12,   300] loss: 0.004\n",
      "[12,   400] loss: 0.004\n",
      "[12,   500] loss: 0.004\n",
      "[12,   600] loss: 0.006\n",
      "[12,   700] loss: 0.005\n",
      "[12,   800] loss: 0.003\n",
      "[12,   900] loss: 0.003\n",
      "[12,  1000] loss: 0.002\n",
      "[13,   100] loss: 0.004\n",
      "[13,   200] loss: 0.002\n",
      "[13,   300] loss: 0.004\n",
      "[13,   400] loss: 0.003\n",
      "[13,   500] loss: 0.003\n",
      "[13,   600] loss: 0.005\n",
      "[13,   700] loss: 0.005\n",
      "[13,   800] loss: 0.003\n",
      "[13,   900] loss: 0.003\n",
      "[13,  1000] loss: 0.002\n",
      "[14,   100] loss: 0.003\n",
      "[14,   200] loss: 0.002\n",
      "[14,   300] loss: 0.003\n",
      "[14,   400] loss: 0.003\n",
      "[14,   500] loss: 0.003\n",
      "[14,   600] loss: 0.005\n",
      "[14,   700] loss: 0.004\n",
      "[14,   800] loss: 0.002\n",
      "[14,   900] loss: 0.003\n",
      "[14,  1000] loss: 0.002\n",
      "[15,   100] loss: 0.003\n",
      "[15,   200] loss: 0.002\n",
      "[15,   300] loss: 0.003\n",
      "[15,   400] loss: 0.002\n",
      "[15,   500] loss: 0.003\n",
      "[15,   600] loss: 0.004\n",
      "[15,   700] loss: 0.004\n",
      "[15,   800] loss: 0.002\n",
      "[15,   900] loss: 0.003\n",
      "[15,  1000] loss: 0.001\n",
      "[16,   100] loss: 0.003\n",
      "[16,   200] loss: 0.002\n",
      "[16,   300] loss: 0.003\n",
      "[16,   400] loss: 0.002\n",
      "[16,   500] loss: 0.003\n",
      "[16,   600] loss: 0.004\n",
      "[16,   700] loss: 0.003\n",
      "[16,   800] loss: 0.002\n",
      "[16,   900] loss: 0.003\n",
      "[16,  1000] loss: 0.001\n",
      "[17,   100] loss: 0.002\n",
      "[17,   200] loss: 0.002\n",
      "[17,   300] loss: 0.002\n",
      "[17,   400] loss: 0.002\n",
      "[17,   500] loss: 0.003\n",
      "[17,   600] loss: 0.004\n",
      "[17,   700] loss: 0.003\n",
      "[17,   800] loss: 0.002\n",
      "[17,   900] loss: 0.002\n",
      "[17,  1000] loss: 0.001\n",
      "[18,   100] loss: 0.002\n",
      "[18,   200] loss: 0.001\n",
      "[18,   300] loss: 0.002\n",
      "[18,   400] loss: 0.002\n",
      "[18,   500] loss: 0.003\n",
      "[18,   600] loss: 0.003\n",
      "[18,   700] loss: 0.002\n",
      "[18,   800] loss: 0.002\n",
      "[18,   900] loss: 0.002\n",
      "[18,  1000] loss: 0.001\n",
      "[19,   100] loss: 0.002\n",
      "[19,   200] loss: 0.001\n",
      "[19,   300] loss: 0.002\n",
      "[19,   400] loss: 0.001\n",
      "[19,   500] loss: 0.003\n",
      "[19,   600] loss: 0.003\n",
      "[19,   700] loss: 0.002\n",
      "[19,   800] loss: 0.001\n",
      "[19,   900] loss: 0.002\n",
      "[19,  1000] loss: 0.001\n",
      "[20,   100] loss: 0.002\n",
      "[20,   200] loss: 0.001\n",
      "[20,   300] loss: 0.002\n",
      "[20,   400] loss: 0.001\n",
      "[20,   500] loss: 0.002\n",
      "[20,   600] loss: 0.003\n",
      "[20,   700] loss: 0.002\n",
      "[20,   800] loss: 0.001\n",
      "[20,   900] loss: 0.002\n",
      "[20,  1000] loss: 0.001\n",
      "Finished Training\n"
     ]
    }
   ],
   "source": [
    "for epoch in range(20):  # loop over the dataset multiple times\n",
    "\n",
    "    running_loss = 0.0\n",
    "    for row in range(0,data_train[0].size(0)):\n",
    "        # get the inputs and outputs\n",
    "        input_NN = data_train[0][row] # x is the input to the NN\n",
    "        truth    = data_train[1][row] # y is what we would like to predict\n",
    "        input_NN = input_NN.unsqueeze(0)\n",
    "        truth    = truth.unsqueeze(0)\n",
    "        # zero the parameter gradients\n",
    "        optimizer.zero_grad()\n",
    "\n",
    "        # forward + backward + optimize\n",
    "        outputs = net(input_NN)\n",
    "        loss = criterion(outputs, truth)\n",
    "        loss.backward()\n",
    "        optimizer.step()\n",
    "\n",
    "        # print statistics\n",
    "        running_loss += loss.item()\n",
    "        if row % 100 == 99:    # print every 2000 mini-batches\n",
    "            print('[%d, %5d] loss: %.3f' %\n",
    "                  (epoch + 1, row + 1, running_loss / 100))\n",
    "            running_loss = 0.0\n",
    "\n",
    "print('Finished Training')"
   ]
  },
  {
   "cell_type": "markdown",
   "metadata": {},
   "source": [
    "### Save model"
   ]
  },
  {
   "cell_type": "code",
   "execution_count": 206,
   "metadata": {},
   "outputs": [],
   "source": [
    "PATH = './simple_sin.pth'\n",
    "torch.save(net.state_dict(), PATH)"
   ]
  },
  {
   "cell_type": "markdown",
   "metadata": {},
   "source": [
    "### Load model"
   ]
  },
  {
   "cell_type": "code",
   "execution_count": 207,
   "metadata": {},
   "outputs": [
    {
     "data": {
      "text/plain": [
       "<All keys matched successfully>"
      ]
     },
     "execution_count": 207,
     "metadata": {},
     "output_type": "execute_result"
    }
   ],
   "source": [
    "net = Net()\n",
    "net.load_state_dict(torch.load(PATH))"
   ]
  },
  {
   "cell_type": "markdown",
   "metadata": {},
   "source": [
    "## 5. Test NN"
   ]
  },
  {
   "cell_type": "code",
   "execution_count": 210,
   "metadata": {},
   "outputs": [
    {
     "name": "stdout",
     "output_type": "stream",
     "text": [
      "Avg. percentage error of the network on 100 test points: 1.7015 %\n"
     ]
    }
   ],
   "source": [
    "tot_error = 0.\n",
    "NN_preds = torch.empty(data_test[0].size(0))\n",
    "for row in range(0,data_test[0].size(0)):\n",
    "        # get the inputs and outputs\n",
    "        input_NN = data_test[0][row] # x is the input to the NN\n",
    "        truth    = data_test[1][row] # y is what we would like to predict\n",
    "        input_NN = input_NN.unsqueeze(0)\n",
    "        truth    = truth.unsqueeze(0)\n",
    "        \n",
    "        outputs = net(input_NN)\n",
    "        NN_preds[row] = outputs.detach()\n",
    "        error = abs(outputs - truth)/truth\n",
    "        tot_error += error\n",
    "\n",
    "print('Avg. percentage error of the network on 100 test points: %.4f %%' % (\n",
    "    100 * tot_error/data_test[0].size(0)))"
   ]
  },
  {
   "cell_type": "code",
   "execution_count": 211,
   "metadata": {},
   "outputs": [
    {
     "data": {
      "image/png": "[encoded data removed]",
      "text/plain": [
       "<Figure size 432x288 with 1 Axes>"
      ]
     },
     "metadata": {
      "needs_background": "light"
     },
     "output_type": "display_data"
    }
   ],
   "source": [
    "import matplotlib.pyplot as plt\n",
    "plt.plot(data_test[0][:],data_test[1][:],'.',label ='Truth')\n",
    "plt.plot(data_test[0][:],NN_preds[:],'.',label ='NN prediction')\n",
    "plt.legend()\n",
    "plt.grid()\n",
    "plt.xlabel('x')\n",
    "plt.xlabel('y')\n",
    "plt.title('Sinusoidal regression')\n",
    "plt.show()"
   ]
  },
  {
   "cell_type": "code",
   "execution_count": null,
   "metadata": {},
   "outputs": [],
   "source": []
  }
 ],
 "metadata": {
  "kernelspec": {
   "display_name": "Python 3",
   "language": "python",
   "name": "python3"
  },
  "language_info": {
   "codemirror_mode": {
    "name": "ipython",
    "version": 3
   },
   "file_extension": ".py",
   "mimetype": "text/x-python",
   "name": "python",
   "nbconvert_exporter": "python",
   "pygments_lexer": "ipython3",
   "version": "3.7.4"
  }
 },
 "nbformat": 4,
 "nbformat_minor": 2
}
